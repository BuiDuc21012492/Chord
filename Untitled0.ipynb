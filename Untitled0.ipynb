{
  "nbformat": 4,
  "nbformat_minor": 0,
  "metadata": {
    "colab": {
      "provenance": [],
      "authorship_tag": "ABX9TyNH76Ummm7VFHTpi4t3z+2s",
      "include_colab_link": true
    },
    "kernelspec": {
      "name": "python3",
      "display_name": "Python 3"
    },
    "language_info": {
      "name": "python"
    }
  },
  "cells": [
    {
      "cell_type": "markdown",
      "metadata": {
        "id": "view-in-github",
        "colab_type": "text"
      },
      "source": [
        "<a href=\"https://colab.research.google.com/github/BuiDuc21012492/Chord/blob/main/Untitled0.ipynb\" target=\"_parent\"><img src=\"https://colab.research.google.com/assets/colab-badge.svg\" alt=\"Open In Colab\"/></a>"
      ]
    },
    {
      "cell_type": "code",
      "execution_count": 1,
      "metadata": {
        "id": "8MbkSzsp-WhN"
      },
      "outputs": [],
      "source": [
        "import pandas as pd"
      ]
    },
    {
      "cell_type": "code",
      "source": [
        "data = {\n",
        "    'evolution': ['Ivysaur', 'Charmeleon', 'Wartortle', 'Metapod'],\n",
        "    'hp': [45, 39, 44, 45],\n",
        "    'name': ['Bulbasaur', 'Charmander', 'Squirtle', 'Caterpie'],\n",
        "    'pokedex': ['yes', 'no', 'yes', 'no'],\n",
        "    'type': ['grass', 'fire', 'water', 'bug']\n",
        "}"
      ],
      "metadata": {
        "id": "wPhazIQz-h3T"
      },
      "execution_count": 2,
      "outputs": []
    },
    {
      "cell_type": "code",
      "source": [
        "pokemon = pd.DataFrame(data)\n",
        "print(\"1. DataFrame ban đầu:\\n\", pokemon)"
      ],
      "metadata": {
        "colab": {
          "base_uri": "https://localhost:8080/"
        },
        "id": "PP5SUTSu-jPs",
        "outputId": "85ebddcc-014b-4c20-b072-0e44f359edc9"
      },
      "execution_count": 3,
      "outputs": [
        {
          "output_type": "stream",
          "name": "stdout",
          "text": [
            "1. DataFrame ban đầu:\n",
            "     evolution  hp        name pokedex   type\n",
            "0     Ivysaur  45   Bulbasaur     yes  grass\n",
            "1  Charmeleon  39  Charmander      no   fire\n",
            "2   Wartortle  44    Squirtle     yes  water\n",
            "3     Metapod  45    Caterpie      no    bug\n"
          ]
        }
      ]
    },
    {
      "cell_type": "code",
      "source": [
        "pokemon = pokemon[['name', 'type', 'hp', 'evolution', 'pokedex']]\n",
        "print(\"\\n2. DataFrame sau khi sắp xếp cột:\\n\", pokemon)"
      ],
      "metadata": {
        "colab": {
          "base_uri": "https://localhost:8080/"
        },
        "id": "-B-Hadaw-ray",
        "outputId": "b18d6f1d-c8d2-4ffd-d419-f90d6d9691b5"
      },
      "execution_count": 4,
      "outputs": [
        {
          "output_type": "stream",
          "name": "stdout",
          "text": [
            "\n",
            "2. DataFrame sau khi sắp xếp cột:\n",
            "          name   type  hp   evolution pokedex\n",
            "0   Bulbasaur  grass  45     Ivysaur     yes\n",
            "1  Charmander   fire  39  Charmeleon      no\n",
            "2    Squirtle  water  44   Wartortle     yes\n",
            "3    Caterpie    bug  45     Metapod      no\n"
          ]
        }
      ]
    },
    {
      "cell_type": "code",
      "source": [
        "pokemon['place'] = ['park', 'street', 'lake', 'forest']\n",
        "print(\"\\n3. DataFrame sau khi thêm cột 'place':\\n\", pokemon)"
      ],
      "metadata": {
        "colab": {
          "base_uri": "https://localhost:8080/"
        },
        "id": "cm3boQrQ-sdK",
        "outputId": "4f071c77-3435-4c0b-b602-668789e8ee50"
      },
      "execution_count": 5,
      "outputs": [
        {
          "output_type": "stream",
          "name": "stdout",
          "text": [
            "\n",
            "3. DataFrame sau khi thêm cột 'place':\n",
            "          name   type  hp   evolution pokedex   place\n",
            "0   Bulbasaur  grass  45     Ivysaur     yes    park\n",
            "1  Charmander   fire  39  Charmeleon      no  street\n",
            "2    Squirtle  water  44   Wartortle     yes    lake\n",
            "3    Caterpie    bug  45     Metapod      no  forest\n"
          ]
        }
      ]
    },
    {
      "cell_type": "code",
      "source": [
        "print(\"\\n4. Kiểu dữ liệu của các cột:\\n\", pokemon.dtypes)"
      ],
      "metadata": {
        "colab": {
          "base_uri": "https://localhost:8080/"
        },
        "id": "zFpYmYmh-1Zw",
        "outputId": "1029743f-e432-41d2-9b5a-86285a528c8f"
      },
      "execution_count": 6,
      "outputs": [
        {
          "output_type": "stream",
          "name": "stdout",
          "text": [
            "\n",
            "4. Kiểu dữ liệu của các cột:\n",
            " name         object\n",
            "type         object\n",
            "hp            int64\n",
            "evolution    object\n",
            "pokedex      object\n",
            "place        object\n",
            "dtype: object\n"
          ]
        }
      ]
    }
  ]
}